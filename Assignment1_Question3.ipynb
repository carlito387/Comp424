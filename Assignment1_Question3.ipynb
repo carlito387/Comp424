{
 "cells": [
  {
   "cell_type": "code",
   "execution_count": 1,
   "metadata": {},
   "outputs": [],
   "source": [
    "import math\n",
    "import numpy as np\n",
    "import random as rand\n",
    "from operator import itemgetter"
   ]
  },
  {
   "cell_type": "markdown",
   "metadata": {},
   "source": [
    "Note that we used the following formula to compute the standard deviations:\n",
    "$$S=(\\frac{n\\times\\sum_{i=1}^nx_i^2-(\\sum_{i=1}^nx_i)^2}{n\\times(n-1)})^{\\frac{1}{2}}$$"
   ]
  },
  {
   "cell_type": "markdown",
   "metadata": {},
   "source": [
    "### QUESTION 3a)"
   ]
  },
  {
   "cell_type": "code",
   "execution_count": 2,
   "metadata": {},
   "outputs": [
    {
     "name": "stdout",
     "output_type": "stream",
     "text": [
      "FUNCTION 1:\n",
      "step: 0.01 average convergence: 236.49 standard deviation convergence 146.44766673084652 average value: 1.90198489654088 standard deviation value: 0.4292405052750198\n",
      "step: 0.05 average convergence: 50.23 standard deviation convergence 33.75965406256768 average value: 1.9210578505894949 standard deviation value: 0.3862381992124698\n",
      "step: 0.1 average convergence: 23.6 standard deviation convergence 15.290453878089421 average value: 1.8600611056095995 standard deviation value: 0.5045405612325936\n",
      "step: 0.2 average convergence: 13.5 standard deviation convergence 8.009464098896702 average value: 1.873628531927092 standard deviation value: 0.47098799554826815\n",
      "FUNCTION 2:\n",
      "step: 0.01 average convergence: 590.08 standard deviation convergence 241.4541669706173 average value: 1.9955136089026495 standard deviation value: 0.0021006997165228325\n",
      "step: 0.05 average convergence: 113.97 standard deviation convergence 46.528465274583056 average value: 1.9745780850337207 standard deviation value: 0.010791046964659353\n",
      "step: 0.1 average convergence: 62.84 standard deviation convergence 24.174750998895227 average value: 1.9508439575794085 standard deviation value: 0.020464371524443633\n",
      "step: 0.2 average convergence: 29.65 standard deviation convergence 11.88698889755118 average value: 1.8978495188505489 standard deviation value: 0.0370063354129945\n"
     ]
    }
   ],
   "source": [
    "def f1(x,y):\n",
    "    return math.sin(x/2)+math.cos(2*y)\n",
    "def f2(x,y):\n",
    "    return -abs(x-2)-abs(y/2+1)+3\n",
    "#Outputs the set of neighbours of a point (x,y)\n",
    "def neighbours(x,y,step):\n",
    "    return [(x-step,y-step), (x,y-step), (x+step,y-step), (x-step,y), (x+step,y), (x-step, y+step), (x,y+step), (x+step, y+step)]\n",
    "#Outputs the neighbour with the highest value under f\n",
    "def better_neighbour(x,y,best,step,function):\n",
    "    for (x_new,y_new) in neighbours(x,y,step):\n",
    "        if (0<=x_new) and (x_new<=10) and (0<=y_new) and (y_new<=10) and function(x_new,y_new)>best:\n",
    "            best=function(x_new,y_new); (x,y)=(x_new,y_new)\n",
    "    return(x,y,best)\n",
    "\n",
    "for function in [f1,f2]:\n",
    "    if (function==f1): print(\"FUNCTION 1:\") \n",
    "    else: print(\"FUNCTION 2:\")\n",
    "    for step in [0.01,0.05,0.1,0.2]:\n",
    "        sum=0; average=0; squared_average=0; squared_sum=0\n",
    "        for i in range(0,100):\n",
    "            iterator=0\n",
    "            #Initialize a random point, and take its neighbour with the highest value under f\n",
    "            (x,y)=(10*rand.uniform(0,1),10*rand.uniform(0,1)); best=function(x,y)\n",
    "            (x_new,y_new,best_new)=better_neighbour(x,y,best,step,function)\n",
    "            #Repeat while there is no neighbour with a higher value\n",
    "            while best!=best_new:\n",
    "                best=best_new; x=x_new; y=y_new\n",
    "                (x_new,y_new,best_new,)=better_neighbour(x,y,best,step,function)\n",
    "                iterator=iterator+1\n",
    "            average=average+best; sum=sum+iterator; squared_average=squared_average+pow(best,2); squared_sum=squared_sum+pow(iterator,2) \n",
    "        average_conv=sum/100; average_val=average/100; standard_val=math.sqrt((100*squared_average-pow(average,2))/(100*99)); standard_conv=math.sqrt((100*squared_sum-pow(sum,2))/(100*99))\n",
    "        print(\"step:\",step,\"average convergence:\",average_conv,\"standard deviation convergence\",standard_conv,\"average value:\",average_val,\"standard deviation value:\", standard_val)"
   ]
  },
  {
   "cell_type": "markdown",
   "metadata": {},
   "source": [
    "### QUESTION 3b)"
   ]
  },
  {
   "cell_type": "code",
   "execution_count": 3,
   "metadata": {},
   "outputs": [
    {
     "name": "stdout",
     "output_type": "stream",
     "text": [
      "FUNCTION 1:\n",
      "beam width: 2 average convergence: 234.3 standard deviation convergence 136.47107215579987 average value: 1.9607830626668459 standard deviation value: 0.2757186187933825\n",
      "beam width: 4 average convergence: 142.47 standard deviation convergence 93.21610115828442 average value: 1.9999745254431383 standard deviation value: 3.3758965972532206e-05\n",
      "beam width: 6 average convergence: 129.46 standard deviation convergence 88.27315503022365 average value: 1.9999783055178164 standard deviation value: 2.975220560373246e-05\n",
      "beam width: 8 average convergence: 113.61 standard deviation convergence 79.06369954573708 average value: 1.9999752066874632 standard deviation value: 3.131139865715094e-05\n",
      "FUNCTION 2:\n",
      "beam width: 2 average convergence: 509.29 standard deviation convergence 262.96834295013423 average value: 1.9948908923501067 standard deviation value: 0.0020802956935199726\n",
      "beam width: 4 average convergence: 368.48 standard deviation convergence 213.4598810270464 average value: 1.9949487471292706 standard deviation value: 0.002208151760073974\n",
      "beam width: 6 average convergence: 307.36 standard deviation convergence 182.1608524398592 average value: 1.9949113987326859 standard deviation value: 0.0019353018830040572\n",
      "beam width: 8 average convergence: 253.22 standard deviation convergence 159.20202399606748 average value: 1.995023599833091 standard deviation value: 0.001998275559159858\n"
     ]
    }
   ],
   "source": [
    "def func(x,y,z):\n",
    "    return z\n",
    "#Outputs the set of valid neighbours of a list of n points (x,y), and their values under f\n",
    "def neighbours(top,step,f,n):\n",
    "    challengers=[(0,0,0)]*(8*n); i=0\n",
    "    for (x,y,value) in top:\n",
    "        challengers[8*i]=(x-step,y-step,f(x-step,y-step)); challengers[8*i+1]=(x-step,y,f(x-step,y)); challengers[8*i+2]=(x-step,y+step,f(x-step,y+step)); challengers[8*i+3]=(x,y-step,f(x,y-step));\n",
    "        challengers[8*i+4]=(x,y+step,f(x,y+step)); challengers[8*i+5]=(x+step,y-step,f(x+step,y-step)); challengers[8*i+6]=(x+step,y,f(x+step,y)); challengers[8*i+7]=(x+step,y+step,f(x+step,y+step));\n",
    "        i=i+1\n",
    "    #Cancel any neighbour not in the range 0 to 10\n",
    "    j=0\n",
    "    for (x,y,value) in challengers:\n",
    "        if x<0 or 10<x or y<0 or 10<y:\n",
    "            challengers[j]=(0,0,-11)\n",
    "        j=j+1\n",
    "    return challengers\n",
    "\n",
    "step=0.01;\n",
    "for function in [f1,f2]:\n",
    "    if (function==f1): print(\"FUNCTION 1:\") \n",
    "    else: print(\"FUNCTION 2:\")\n",
    "    for n in [2,4,6,8]:\n",
    "        sum=0; average=0; squared_average=0; squared_sum=0\n",
    "        for j in range(100):\n",
    "            iterator=1;\n",
    "            top=[(0,0,0)]*n\n",
    "            #Initialize n points and their values under f, and sort them by values\n",
    "            for i in range(n):\n",
    "                top[i]=[(10*rand.uniform(0,1),10*rand.uniform(0,1),0)]\n",
    "                [(x,y,z)]=top[i]; top[i]=(x,y,function(x,y));\n",
    "            top=sorted(top, key=itemgetter(2), reverse=True)\n",
    "            #Lowest value of the top list\n",
    "            (x_low,y_low,lowest_top)=top[n-1];\n",
    "            #Consider all the valid neighbours, and sort them by values\n",
    "            challengers=sorted(neighbours(top,step,function,n), key=itemgetter(2), reverse=True);\n",
    "            #Highest value of the challengers\n",
    "            (x_high,y_high,highest_challenger)=challengers[0]\n",
    "            #Change the top list to the n highest values of the top list and the challengers list. Repeat this until there is no more change to the top list\n",
    "            while (highest_challenger > lowest_top):\n",
    "                standing=top+challengers; standing=sorted(standing, key=itemgetter(2), reverse=True);\n",
    "                for i in range(0,n):\n",
    "                    (x_top,y_top,value_top)=standing[i]\n",
    "                    top[i]=(x_top,y_top,value_top)\n",
    "                (x_low,y_low,lowest_top)=top[n-1];\n",
    "                challengers=sorted(neighbours(top,step,function,n), key=itemgetter(2), reverse=True);\n",
    "                (x_high,y_high,highest_challenger)=challengers[0]\n",
    "                iterator=iterator+1;\n",
    "            (x_final,y_final,best)=top[0]\n",
    "            sum=sum+iterator; average=average+best; squared_average=squared_average+pow(best,2); squared_sum=squared_sum+pow(iterator,2) \n",
    "        average_conv=sum/100; average_val=average/100; standard_val=math.sqrt((100*squared_average-pow(average,2))/(100*99)); standard_conv=math.sqrt((100*squared_sum-pow(sum,2))/(100*99))\n",
    "        print(\"beam width:\",n,\"average convergence:\",average_conv,\"standard deviation convergence\",standard_conv,\"average value:\",average_val,\"standard deviation value:\", standard_val)"
   ]
  }
 ],
 "metadata": {
  "kernelspec": {
   "display_name": "Python 3",
   "language": "python",
   "name": "python3"
  },
  "language_info": {
   "codemirror_mode": {
    "name": "ipython",
    "version": 3
   },
   "file_extension": ".py",
   "mimetype": "text/x-python",
   "name": "python",
   "nbconvert_exporter": "python",
   "pygments_lexer": "ipython3",
   "version": "3.7.1"
  }
 },
 "nbformat": 4,
 "nbformat_minor": 2
}
